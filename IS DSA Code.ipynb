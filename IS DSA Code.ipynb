{
 "cells": [
  {
   "cell_type": "code",
   "execution_count": 1,
   "metadata": {},
   "outputs": [
    {
     "name": "stdout",
     "output_type": "stream",
     "text": [
      "Public key: (n=0xc34d667cb010137c11d84cbc448c7945dfd8ef30de3ce2eb02cce3abbbf95c1bc05d3a11880c395bbe8704a1b8f7ad7482e9dae4f865e305f08cd1240565ba7dcc4276c7767faa74ac94508b605a96659a83d9157ad5741f0c176ce0111d0ac047c1a2ae89c44c87941c1286a80914b089cc3c4d70459cd18bedd9f66a33c04d, e=0x10001)\n",
      "\n",
      "Private key: (n=0xc34d667cb010137c11d84cbc448c7945dfd8ef30de3ce2eb02cce3abbbf95c1bc05d3a11880c395bbe8704a1b8f7ad7482e9dae4f865e305f08cd1240565ba7dcc4276c7767faa74ac94508b605a96659a83d9157ad5741f0c176ce0111d0ac047c1a2ae89c44c87941c1286a80914b089cc3c4d70459cd18bedd9f66a33c04d, d=0x3d3ee08ce989a1129f65fd6a6cf4c07331278e9afc968b72b786193f99cb311f62cbd991f5e01f7caddb1990bdb8ae24838962a3bb61f837bc9fec56277b27680f5bbf8818a48c7bad1433eee9f54adb9ffee4537bfcba96aa8f4a01dd5b5d80fa51cb99eb55c70e9b2fabadfe4e99a54db3f8dd938189b3e97ddf33de402b01)\n",
      "\n",
      "Enter data to be encrypted: Someshwar\n",
      "Signature: 0x5e0b1274af2a7f2dde65b62e343355b16f98305eb611a65d1b853d5e34b18e41ccefe5712fe7f4293cb965dc4a22d0c5ae9d198c7e7fb1e9e0df7c28c782e76d70d0adb82eb2c0ef4871a1d9d12a6e2af9f7c0417e1beccca79c264324056dfb30c94af9d75bbf3033785adc55fe13ad13ef85ebf9585bb2bac20dc5359c8cae\n",
      "Enter received data: Someshwar\n",
      "Signature valid: True\n"
     ]
    }
   ],
   "source": [
    "from hashlib import sha512\n",
    "from Crypto.PublicKey import RSA\n",
    "keyPair = RSA.generate(bits=1024)\n",
    "print(f\"Public key: (n={hex(keyPair.n)}, e={hex(keyPair.e)})\\n\")\n",
    "print(f\"Private key: (n={hex(keyPair.n)}, d={hex(keyPair.d)})\\n\")\n",
    "# RSA sign the message\n",
    "msg = input(\"Enter data to be encrypted: \")\n",
    "hash = int.from_bytes(sha512(msg.encode()).digest(), byteorder='big')\n",
    "signature = pow(hash, keyPair.d, keyPair.n)\n",
    "print(\"Signature:\", hex(signature))\n",
    "# RSA verify signature\n",
    "rec_msg = input(\"Enter received data: \")\n",
    "hash = int.from_bytes(sha512(rec_msg.encode()).digest(), byteorder='big')\n",
    "hashFromSignature = pow(signature, keyPair.e, keyPair.n)\n",
    "print(\"Signature valid:\", hash == hashFromSignature)"
   ]
  },
  {
   "cell_type": "code",
   "execution_count": null,
   "metadata": {},
   "outputs": [],
   "source": []
  }
 ],
 "metadata": {
  "kernelspec": {
   "display_name": "Python 3",
   "language": "python",
   "name": "python3"
  },
  "language_info": {
   "codemirror_mode": {
    "name": "ipython",
    "version": 3
   },
   "file_extension": ".py",
   "mimetype": "text/x-python",
   "name": "python",
   "nbconvert_exporter": "python",
   "pygments_lexer": "ipython3",
   "version": "3.7.6"
  }
 },
 "nbformat": 4,
 "nbformat_minor": 4
}
